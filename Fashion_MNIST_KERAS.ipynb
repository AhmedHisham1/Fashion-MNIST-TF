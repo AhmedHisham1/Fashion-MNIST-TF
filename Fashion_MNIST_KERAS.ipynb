{
  "nbformat": 4,
  "nbformat_minor": 0,
  "metadata": {
    "colab": {
      "name": "Fashion-MNIST-KERAS.ipynb",
      "version": "0.3.2",
      "provenance": [],
      "collapsed_sections": []
    },
    "kernelspec": {
      "name": "python3",
      "display_name": "Python 3"
    },
    "accelerator": "GPU"
  },
  "cells": [
    {
      "cell_type": "code",
      "metadata": {
        "id": "lABwIrU0GUwu",
        "colab_type": "code",
        "colab": {}
      },
      "source": [
        "import numpy as np\n",
        "import matplotlib.pyplot as plt\n",
        "import tensorflow as tf\n",
        "from tensorflow.python.keras.callbacks import TensorBoard\n",
        "from time import time\n",
        "\n",
        "%matplotlib inline"
      ],
      "execution_count": 0,
      "outputs": []
    },
    {
      "cell_type": "code",
      "metadata": {
        "id": "fQaqwSimGWZI",
        "colab_type": "code",
        "colab": {
          "base_uri": "https://localhost:8080/",
          "height": 84
        },
        "outputId": "3203e8b8-f886-45d5-8f4e-49b6e965ab8f"
      },
      "source": [
        "(x_train, y_train), (x_test, y_test) = tf.keras.datasets.fashion_mnist.load_data()\n",
        "\n",
        "print(\"x_train shape: {}\".format(x_train.shape))\n",
        "print(\"y_train shape: {}\".format(y_train.shape))\n",
        "print(\"x_test shape: {}\".format(x_test.shape))\n",
        "print(\"y_test shape: {}\".format(y_test.shape))\n",
        "\n",
        "x_train, x_test = x_train / 255.0, x_test / 255.0"
      ],
      "execution_count": 6,
      "outputs": [
        {
          "output_type": "stream",
          "text": [
            "x_train shape: (60000, 28, 28)\n",
            "y_train shape: (60000,)\n",
            "x_test shape: (10000, 28, 28)\n",
            "y_test shape: (10000,)\n"
          ],
          "name": "stdout"
        }
      ]
    },
    {
      "cell_type": "code",
      "metadata": {
        "id": "uB2dSBbRGfkP",
        "colab_type": "code",
        "colab": {
          "base_uri": "https://localhost:8080/",
          "height": 336
        },
        "outputId": "540b1ed1-5e70-4ce6-8288-29f63920b51f"
      },
      "source": [
        "plt.imshow(x_train[768,:,:], cmap='Greys')\n",
        "print(type(x_train))\n",
        "print(x_train.shape)\n",
        "print(y_train.shape)\n",
        "\n",
        "#reshaping to add the channel dim\n",
        "x_train = x_train.reshape((x_train.shape[0],x_train.shape[1], x_train.shape[2], 1))\n",
        "# y_train = y_train.reshape((y_train.shape[0],y_train.shape[1], y_train.shape[2], 1))\n",
        "x_test = x_test.reshape((x_test.shape[0],x_test.shape[1], x_test.shape[2], 1))\n",
        "# y_test = y_test.reshape((y_test.shape[0],y_test.shape[1], y_test.shape[2], 1))\n",
        "\n",
        "print(\"x_train shape: {}\".format(x_train.shape))"
      ],
      "execution_count": 7,
      "outputs": [
        {
          "output_type": "stream",
          "text": [
            "<class 'numpy.ndarray'>\n",
            "(60000, 28, 28)\n",
            "(60000,)\n",
            "x_train shape: (60000, 28, 28, 1)\n"
          ],
          "name": "stdout"
        },
        {
          "output_type": "display_data",
          "data": {
            "image/png": "[encoded data removed]",
            "text/plain": [
              "<Figure size 432x288 with 1 Axes>"
            ]
          },
          "metadata": {
            "tags": []
          }
        }
      ]
    },
    {
      "cell_type": "code",
      "metadata": {
        "id": "kOhkBB73Gjqb",
        "colab_type": "code",
        "colab": {
          "base_uri": "https://localhost:8080/",
          "height": 304
        },
        "outputId": "65d0f09e-5cba-4173-b17d-507a496827d5"
      },
      "source": [
        "model = tf.keras.models.Sequential([\n",
        "#         tf.keras.layers.Flatten(input_shape=(28,28,1)),\n",
        "    tf.keras.layers.Conv2D(kernel_size=[5,5], filters=32, activation='relu'),\n",
        "    tf.keras.layers.MaxPool2D(pool_size=(2,2)),\n",
        "    tf.keras.layers.Conv2D(kernel_size=[5,5], filters=64, activation='relu'),\n",
        "    tf.keras.layers.MaxPool2D(pool_size=(2,2)),\n",
        "    tf.keras.layers.Flatten(),\n",
        "    tf.keras.layers.Dense(1024, activation='relu'),\n",
        "    tf.keras.layers.Dense(10, activation='softmax')\n",
        "])\n",
        "\n",
        "tensorboard = TensorBoard(log_dir=r\"logs\\{}\".format(time()))\n",
        "\n",
        "model.compile(optimizer='adam',\n",
        "              loss = 'sparse_categorical_crossentropy',\n",
        "              metrics=['accuracy'])\n",
        "model.fit(x_train, y_train, batch_size=512, epochs=5, validation_split=0.0, callbacks=[tensorboard])\n",
        "model.evaluate(x_test, y_test)"
      ],
      "execution_count": 8,
      "outputs": [
        {
          "output_type": "stream",
          "text": [
            "WARNING: Logging before flag parsing goes to stderr.\n",
            "W0705 03:08:32.757917 140059082741632 deprecation.py:506] From /usr/local/lib/python3.6/dist-packages/tensorflow/python/ops/init_ops.py:1251: calling VarianceScaling.__init__ (from tensorflow.python.ops.init_ops) with dtype is deprecated and will be removed in a future version.\n",
            "Instructions for updating:\n",
            "Call initializer instance with the dtype argument instead of passing it to the constructor\n"
          ],
          "name": "stderr"
        },
        {
          "output_type": "stream",
          "text": [
            "Epoch 1/5\n",
            "60000/60000 [==============================] - 3s 56us/sample - loss: 0.6709 - acc: 0.7593\n",
            "Epoch 2/5\n",
            "60000/60000 [==============================] - 1s 21us/sample - loss: 0.4000 - acc: 0.8570\n",
            "Epoch 3/5\n",
            "60000/60000 [==============================] - 1s 20us/sample - loss: 0.3355 - acc: 0.8793\n",
            "Epoch 4/5\n",
            "60000/60000 [==============================] - 1s 21us/sample - loss: 0.3011 - acc: 0.8905\n",
            "Epoch 5/5\n",
            "60000/60000 [==============================] - 1s 21us/sample - loss: 0.2720 - acc: 0.9011\n",
            "10000/10000 [==============================] - 1s 53us/sample - loss: 0.2917 - acc: 0.8956\n"
          ],
          "name": "stdout"
        },
        {
          "output_type": "execute_result",
          "data": {
            "text/plain": [
              "[0.2916752942323685, 0.8956]"
            ]
          },
          "metadata": {
            "tags": []
          },
          "execution_count": 8
        }
      ]
    },
    {
      "cell_type": "code",
      "metadata": {
        "id": "G17i6gWoGtXj",
        "colab_type": "code",
        "colab": {}
      },
      "source": [
        "from sklearn.metrics import confusion_matrix\n",
        "\n",
        "def print_confusion_matrix(v_xs, v_ys):\n",
        "    cls_true = v_ys\n",
        "    cls_pred = np.argmax(model.predict(v_xs), axis=1).T\n",
        "    cm = confusion_matrix(y_true=cls_true, y_pred=cls_pred)\n",
        "    \n",
        "    plt.figure()\n",
        "#     plt.subplot(121)\n",
        "    plt.imshow(cm, interpolation='nearest', cmap=plt.cm.Blues)\n",
        "    plt.tight_layout()\n",
        "    tick_marks = np.arange(10)\n",
        "    plt.xticks(tick_marks, range(10))\n",
        "    plt.yticks(tick_marks, range(10))\n",
        "    plt.xlabel('Predicted')\n",
        "    plt.ylabel('True')\n",
        "    \n",
        "    # Print the confusion matrix as text.\n",
        "#     print(cm)\n",
        "    # Plot the confusion matrix as an image."
      ],
      "execution_count": 0,
      "outputs": []
    },
    {
      "cell_type": "code",
      "metadata": {
        "id": "BzzV7qMYG0wV",
        "colab_type": "code",
        "colab": {
          "base_uri": "https://localhost:8080/",
          "height": 596
        },
        "outputId": "396d50a2-7d0e-48e5-f6ff-eb4e984f3214"
      },
      "source": [
        "img_no = 1234\n",
        "\n",
        "plt.figure()\n",
        "plt.imshow(x_test[img_no,:,:,0], cmap='Greys')\n",
        "pred = np.argmax(model.predict(x_test, batch_size=None, verbose=1), axis=1)[img_no]\n",
        "print(\"prediction for this image: {}\".format(pred))\n",
        "\n",
        "print_confusion_matrix(x_test, y_test.reshape((-1, 1)))"
      ],
      "execution_count": 10,
      "outputs": [
        {
          "output_type": "stream",
          "text": [
            "10000/10000 [==============================] - 0s 46us/sample\n",
            "prediction for this image: 4\n"
          ],
          "name": "stdout"
        },
        {
          "output_type": "display_data",
          "data": {
            "image/png": "[encoded data removed]",
            "text/plain": [
              "<Figure size 432x288 with 1 Axes>"
            ]
          },
          "metadata": {
            "tags": []
          }
        },
        {
          "output_type": "display_data",
          "data": {
            "image/png": "[encoded data removed]",
            "text/plain": [
              "<Figure size 432x288 with 1 Axes>"
            ]
          },
          "metadata": {
            "tags": []
          }
        }
      ]
    },
    {
      "cell_type": "code",
      "metadata": {
        "id": "q78x_J3TG2T6",
        "colab_type": "code",
        "colab": {}
      },
      "source": [
        ""
      ],
      "execution_count": 0,
      "outputs": []
    }
  ]
}