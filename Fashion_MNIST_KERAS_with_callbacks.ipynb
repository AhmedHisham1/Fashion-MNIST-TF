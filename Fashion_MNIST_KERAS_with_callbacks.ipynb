{
 "cells": [
  {
   "cell_type": "code",
   "execution_count": 1,
   "metadata": {
    "colab": {},
    "colab_type": "code",
    "id": "lABwIrU0GUwu"
   },
   "outputs": [],
   "source": [
    "import numpy as np\n",
    "import matplotlib.pyplot as plt\n",
    "import tensorflow as tf\n",
    "from tensorflow.python.keras.callbacks import TensorBoard\n",
    "from time import time\n",
    "\n",
    "%matplotlib inline"
   ]
  },
  {
   "cell_type": "code",
   "execution_count": 2,
   "metadata": {
    "colab": {
     "base_uri": "https://localhost:8080/",
     "height": 84
    },
    "colab_type": "code",
    "id": "fQaqwSimGWZI",
    "outputId": "16d38e0c-dd84-4e19-967c-e11d6d59cf9b"
   },
   "outputs": [
    {
     "name": "stdout",
     "output_type": "stream",
     "text": [
      "x_train shape: (60000, 28, 28)\n",
      "y_train shape: (60000,)\n",
      "x_test shape: (10000, 28, 28)\n",
      "y_test shape: (10000,)\n"
     ]
    },
    {
     "data": {
      "text/plain": [
       "9"
      ]
     },
     "execution_count": 2,
     "metadata": {},
     "output_type": "execute_result"
    }
   ],
   "source": [
    "(x_train, y_train), (x_test, y_test) = tf.keras.datasets.fashion_mnist.load_data()\n",
    "\n",
    "print(\"x_train shape: {}\".format(x_train.shape))\n",
    "print(\"y_train shape: {}\".format(y_train.shape))\n",
    "print(\"x_test shape: {}\".format(x_test.shape))\n",
    "print(\"y_test shape: {}\".format(y_test.shape))\n",
    "\n",
    "x_train, x_test = x_train / 255.0, x_test / 255.0\n",
    "y_train[0]"
   ]
  },
  {
   "cell_type": "code",
   "execution_count": 3,
   "metadata": {
    "colab": {
     "base_uri": "https://localhost:8080/",
     "height": 336
    },
    "colab_type": "code",
    "id": "uB2dSBbRGfkP",
    "outputId": "49ab00e2-f9d0-4554-dc79-efe0c954d167"
   },
   "outputs": [
    {
     "name": "stdout",
     "output_type": "stream",
     "text": [
      "<class 'numpy.ndarray'>\n",
      "(60000, 28, 28)\n",
      "(60000,)\n",
      "x_train shape: (60000, 28, 28, 1)\n"
     ]
    },
    {
     "data": {
      "image/png": "[encoded data removed]",
      "text/plain": [
       "<Figure size 432x288 with 1 Axes>"
      ]
     },
     "metadata": {
      "needs_background": "light"
     },
     "output_type": "display_data"
    }
   ],
   "source": [
    "plt.imshow(x_train[768,:,:], cmap='Greys')\n",
    "print(type(x_train))\n",
    "print(x_train.shape)\n",
    "print(y_train.shape)\n",
    "\n",
    "#reshaping to add the channel dim\n",
    "x_train = x_train.reshape((x_train.shape[0],x_train.shape[1], x_train.shape[2], 1))\n",
    "# y_train = y_train.reshape((y_train.shape[0],y_train.shape[1], y_train.shape[2], 1))\n",
    "x_test = x_test.reshape((x_test.shape[0],x_test.shape[1], x_test.shape[2], 1))\n",
    "# y_test = y_test.reshape((y_test.shape[0],y_test.shape[1], y_test.shape[2], 1))\n",
    "\n",
    "print(\"x_train shape: {}\".format(x_train.shape))"
   ]
  },
  {
   "cell_type": "code",
   "execution_count": 6,
   "metadata": {
    "colab": {},
    "colab_type": "code",
    "id": "bwEXvXrZQpQZ"
   },
   "outputs": [],
   "source": [
    "class CustomCallback(tf.keras.callbacks.Callback):\n",
    "    saved_logs = []\n",
    "    def on_train_begin(self, logs=None):\n",
    "        self.saved_logs = []\n",
    "    def on_epoch_end(self, epoch, logs={}):\n",
    "        if logs.get('accuracy')>0.9:\n",
    "            print(\"\\nReached more than 90% accuracy. Ending the training!\")\n",
    "            self.model.stop_training = True\n",
    "        \n",
    "    def on_batch_end(self, batch, logs={}):\n",
    "        self.saved_logs.append(logs)"
   ]
  },
  {
   "cell_type": "code",
   "execution_count": 7,
   "metadata": {
    "colab": {
     "base_uri": "https://localhost:8080/",
     "height": 251
    },
    "colab_type": "code",
    "id": "kOhkBB73Gjqb",
    "outputId": "f66d3b5b-45d0-48f0-a2d7-297d8085b3d7"
   },
   "outputs": [
    {
     "name": "stdout",
     "output_type": "stream",
     "text": [
      "Train on 60000 samples\n",
      "Epoch 1/5\n",
      "60000/60000 [==============================] - 2s 33us/sample - loss: 0.6697 - accuracy: 0.7620\n",
      "Epoch 2/5\n",
      "60000/60000 [==============================] - 2s 29us/sample - loss: 0.3896 - accuracy: 0.8603\n",
      "Epoch 3/5\n",
      "60000/60000 [==============================] - 2s 29us/sample - loss: 0.3356 - accuracy: 0.8802\n",
      "Epoch 4/5\n",
      "60000/60000 [==============================] - 2s 29us/sample - loss: 0.2959 - accuracy: 0.8931\n",
      "Epoch 5/5\n",
      "59904/60000 [============================>.] - ETA: 0s - loss: 0.2720 - accuracy: 0.9010\n",
      "Reached more than 90% accuracy. Ending the training!\n",
      "60000/60000 [==============================] - 2s 29us/sample - loss: 0.2720 - accuracy: 0.9010\n",
      "10000/10000 [==============================] - 1s 53us/sample - loss: 0.2967 - accuracy: 0.8939\n"
     ]
    },
    {
     "data": {
      "text/plain": [
       "[0.2967139163732529, 0.8939]"
      ]
     },
     "execution_count": 7,
     "metadata": {},
     "output_type": "execute_result"
    }
   ],
   "source": [
    "model = tf.keras.models.Sequential([\n",
    "#         tf.keras.layers.Flatten(input_shape=(28,28,1)),\n",
    "    tf.keras.layers.Conv2D(kernel_size=[5,5], filters=32, activation='relu'),\n",
    "    tf.keras.layers.MaxPool2D(pool_size=(2,2)),\n",
    "    tf.keras.layers.Conv2D(kernel_size=[5,5], filters=64, activation='relu'),\n",
    "    tf.keras.layers.MaxPool2D(pool_size=(2,2)),\n",
    "    tf.keras.layers.Flatten(),\n",
    "    tf.keras.layers.Dense(1024, activation='relu'),\n",
    "    tf.keras.layers.Dense(10, activation='softmax')\n",
    "])\n",
    "\n",
    "mycallback = CustomCallback()\n",
    "\n",
    "model.compile(optimizer='adam',\n",
    "              loss = 'sparse_categorical_crossentropy',\n",
    "              metrics=['accuracy'])\n",
    "model.fit(x_train, y_train, batch_size=512, epochs=5, validation_split=0.0, callbacks=[mycallback])\n",
    "model.evaluate(x_test, y_test)"
   ]
  },
  {
   "cell_type": "code",
   "execution_count": 9,
   "metadata": {
    "colab": {
     "base_uri": "https://localhost:8080/",
     "height": 659
    },
    "colab_type": "code",
    "id": "jcRdRuSUWS9_",
    "outputId": "3c7a3b80-1ae2-4b08-d333-61ab96b83a5c"
   },
   "outputs": [
    {
     "data": {
      "text/plain": [
       "Text(0.5, 0, 'batches')"
      ]
     },
     "execution_count": 9,
     "metadata": {},
     "output_type": "execute_result"
    },
    {
     "data": {
      "image/png": "[encoded data removed]",
      "text/plain": [
       "<Figure size 432x288 with 1 Axes>"
      ]
     },
     "metadata": {
      "needs_background": "light"
     },
     "output_type": "display_data"
    },
    {
     "data": {
      "image/png": "[encoded data removed]",
      "text/plain": [
       "<Figure size 432x288 with 1 Axes>"
      ]
     },
     "metadata": {
      "needs_background": "light"
     },
     "output_type": "display_data"
    }
   ],
   "source": [
    "acc_log = [mycallback.saved_logs[i]['accuracy'] for i in range(len(mycallback.saved_logs))]\n",
    "loss_log = [mycallback.saved_logs[i]['loss'] for i in range(len(mycallback.saved_logs))]\n",
    "\n",
    "plt.figure()\n",
    "# plt.subplot(121)\n",
    "plt.plot([i for i in range(len(mycallback.saved_logs))], acc_log)\n",
    "plt.title('acc')\n",
    "plt.xlabel('batches')\n",
    "\n",
    "plt.figure()\n",
    "# plt.subplot(122)\n",
    "plt.plot([i for i in range(len(mycallback.saved_logs))], loss_log)\n",
    "plt.title('loss')\n",
    "plt.xlabel('batches')"
   ]
  },
  {
   "cell_type": "code",
   "execution_count": 10,
   "metadata": {
    "colab": {},
    "colab_type": "code",
    "id": "G17i6gWoGtXj"
   },
   "outputs": [],
   "source": [
    "from sklearn.metrics import confusion_matrix\n",
    "\n",
    "def print_confusion_matrix(v_xs, v_ys):\n",
    "    cls_true = v_ys\n",
    "    cls_pred = np.argmax(model.predict(v_xs), axis=1).T\n",
    "    cm = confusion_matrix(y_true=cls_true, y_pred=cls_pred)\n",
    "    \n",
    "    plt.figure()\n",
    "#     plt.subplot(121)\n",
    "    plt.imshow(cm, interpolation='nearest', cmap=plt.cm.Blues)\n",
    "    plt.tight_layout()\n",
    "    tick_marks = np.arange(10)\n",
    "    plt.xticks(tick_marks, range(10))\n",
    "    plt.yticks(tick_marks, range(10))\n",
    "    plt.xlabel('Predicted')\n",
    "    plt.ylabel('True')\n",
    "    \n",
    "    # Print the confusion matrix as text.\n",
    "#     print(cm)\n",
    "    # Plot the confusion matrix as an image."
   ]
  },
  {
   "cell_type": "code",
   "execution_count": 11,
   "metadata": {
    "colab": {
     "base_uri": "https://localhost:8080/",
     "height": 613
    },
    "colab_type": "code",
    "id": "BzzV7qMYG0wV",
    "outputId": "e2a46e47-5924-4cb5-af64-1495f1d6f695"
   },
   "outputs": [
    {
     "name": "stdout",
     "output_type": "stream",
     "text": [
      "10000/10000 [==============================] - 1s 69us/sample\n",
      "prediction for this image: 4\n",
      "Correct classification is: 4\n"
     ]
    },
    {
     "data": {
      "image/png": "[encoded data removed]",
      "text/plain": [
       "<Figure size 432x288 with 1 Axes>"
      ]
     },
     "metadata": {
      "needs_background": "light"
     },
     "output_type": "display_data"
    },
    {
     "data": {
      "image/png": "[encoded data removed]",
      "text/plain": [
       "<Figure size 432x288 with 1 Axes>"
      ]
     },
     "metadata": {
      "needs_background": "light"
     },
     "output_type": "display_data"
    }
   ],
   "source": [
    "img_no = 1234\n",
    "\n",
    "plt.figure()\n",
    "plt.imshow(x_test[img_no,:,:,0], cmap='Greys')\n",
    "pred = np.argmax(model.predict(x_test, batch_size=None, verbose=1), axis=1)[img_no]\n",
    "print(\"prediction for this image: {}\".format(pred))\n",
    "print(\"Correct classification is: {}\".format(y_test[img_no]))\n",
    "\n",
    "print_confusion_matrix(x_test, y_test.reshape((-1, 1)))"
   ]
  },
  {
   "cell_type": "code",
   "execution_count": 0,
   "metadata": {
    "colab": {},
    "colab_type": "code",
    "id": "q78x_J3TG2T6"
   },
   "outputs": [],
   "source": []
  }
 ],
 "metadata": {
  "accelerator": "GPU",
  "colab": {
   "collapsed_sections": [],
   "name": "Fashion-MNIST-KERAS.ipynb",
   "provenance": [],
   "version": "0.3.2"
  },
  "kernelspec": {
   "display_name": "Python 3",
   "language": "python",
   "name": "python3"
  },
  "language_info": {
   "codemirror_mode": {
    "name": "ipython",
    "version": 3
   },
   "file_extension": ".py",
   "mimetype": "text/x-python",
   "name": "python",
   "nbconvert_exporter": "python",
   "pygments_lexer": "ipython3",
   "version": "3.7.3"
  }
 },
 "nbformat": 4,
 "nbformat_minor": 1
}
